{
 "cells": [
  {
   "metadata": {},
   "cell_type": "markdown",
   "source": [
    "# Introduction\n",
    "This notebook was written by Rafael Oliveira on 2024-07-02.\n",
    "\n",
    "In this notebook, you will find examples of various fundamental data processing procedures including:\n",
    "\n",
    "- Web Scraping: Demonstrates how to gather data concerning interest rate futures from the web using automated techniques.\n",
    "- Data Cleaning: Shows the process of cleaning the scraped data to ensure accuracy and consistency.\n",
    "- Data Transformation: Illustrates how to calculate key financial metrics such as the time to maturity and interest rates from the cleaned data.\n",
    "- Visualization: Provides examples of how to visualize the processed data to uncover insights and trends.\n",
    "\n",
    "This notebook serves as a practical guide and a starting point for more complex financial data analysis projects."
   ],
   "id": "8736d456dbabc26b"
  },
  {
   "metadata": {},
   "cell_type": "markdown",
   "source": "## User defined parameters",
   "id": "8d4d35b434ff7384"
  },
  {
   "metadata": {},
   "cell_type": "code",
   "source": [
    "# Install packages from requirements.txt\n",
    "!pip install -r requirements.txt"
   ],
   "id": "73bea2a0f953a5e3",
   "outputs": [],
   "execution_count": null
  },
  {
   "cell_type": "code",
   "id": "initial_id",
   "metadata": {
    "collapsed": true,
    "jupyter": {
     "outputs_hidden": true
    },
    "ExecuteTime": {
     "end_time": "2024-07-02T23:00:00.541487Z",
     "start_time": "2024-07-02T23:00:00.538741Z"
    }
   },
   "source": [
    "# Set the market of interest.\n",
    "# - 'DI1' represents Brazilian nominal rates futures.\n",
    "# - 'DAP' represents Brazilian real rates futures.\n",
    "MARKET = 'DI1'"
   ],
   "outputs": [],
   "execution_count": 4
  },
  {
   "cell_type": "code",
   "id": "b9541af7c66c5ae5",
   "metadata": {
    "ExecuteTime": {
     "end_time": "2024-07-02T23:00:00.577323Z",
     "start_time": "2024-07-02T23:00:00.574006Z"
    }
   },
   "source": [
    "# Set the reference date of interest.\n",
    "# This date must be a past trading day in the Brazilian market.\n",
    "# Format: 'YYYY-MM-DD'\n",
    "REF_DATE = '2024-07-01'"
   ],
   "outputs": [],
   "execution_count": 5
  },
  {
   "metadata": {},
   "cell_type": "markdown",
   "source": "## Web scraping",
   "id": "8aec04a15afe8a3c"
  },
  {
   "cell_type": "code",
   "id": "ac898747d9eb6d90",
   "metadata": {
    "ExecuteTime": {
     "end_time": "2024-07-02T23:00:00.581731Z",
     "start_time": "2024-07-02T23:00:00.578324Z"
    }
   },
   "source": [
    "from datetime import datetime\n",
    "\n",
    "\n",
    "# Function to build the URL for web scraping\n",
    "def generate_url_for_scraping(market: str, date: str) -> str:\n",
    "    formatted_date = datetime.strptime(date, '%Y-%m-%d').strftime('%d/%m/%Y')\n",
    "    return f'https://www2.bmf.com.br/pages/portal/bmfbovespa/boletim1/SistemaPregao1.asp?pagetype=pop&caminho=Resumo%20Estat%EDstico%20-%20Sistema%20Preg%E3o&Data={formatted_date}&Mercadoria={market}'\n",
    "\n",
    "# Generate URL using the specified market and reference date\n",
    "url = generate_url_for_scraping(MARKET, REF_DATE)\n",
    "print(url)"
   ],
   "outputs": [
    {
     "name": "stdout",
     "output_type": "stream",
     "text": [
      "https://www2.bmf.com.br/pages/portal/bmfbovespa/boletim1/SistemaPregao1.asp?pagetype=pop&caminho=Resumo%20Estat%EDstico%20-%20Sistema%20Preg%E3o&Data=01/07/2024&Mercadoria=DI1\n"
     ]
    }
   ],
   "execution_count": 6
  },
  {
   "cell_type": "code",
   "id": "a40941b5c95d3eff",
   "metadata": {
    "ExecuteTime": {
     "end_time": "2024-07-02T23:00:13.261919Z",
     "start_time": "2024-07-02T23:00:00.581731Z"
    }
   },
   "source": [
    "from selenium import webdriver\n",
    "from selenium.webdriver.common.by import By\n",
    "import pandas as pd\n",
    "from selenium.webdriver.chrome.service import Service\n",
    "from webdriver_manager.chrome import ChromeDriverManager\n",
    "from io import StringIO\n",
    "\n",
    "# Function to scrape data from the BMF website\n",
    "def scrape_data_from_bmf_website(url: str) -> pd.DataFrame:\n",
    "    # Set up headless Chrome options\n",
    "    options = webdriver.ChromeOptions()\n",
    "    options.add_argument(\"--headless=new\")\n",
    "    service = Service(ChromeDriverManager().install())\n",
    "    \n",
    "    # Use a context manager to ensure the driver is closed properly\n",
    "    with webdriver.Chrome(service=service, options=options) as driver:\n",
    "        driver.get(url)\n",
    "        \n",
    "        # Create a dictionary to define relevant columns and their new names.\n",
    "        COLUMNS_RENAME = {\n",
    "            'VENCTO': 'expiration_code',  # Column for expiration code\n",
    "            'AJUSTE': 'settlement',       # Column for settlement values\n",
    "        }\n",
    "\n",
    "        # Check if the page indicates no data is available\n",
    "        if 'Não há dados para a data consultada.' in driver.page_source:\n",
    "            return pd.DataFrame(columns=list(COLUMNS_RENAME.values()))\n",
    "        \n",
    "        try:\n",
    "            # Scrape data from the specified elements\n",
    "            element_first_table = driver.find_element(By.ID, 'MercadoFut0')\n",
    "            first_df = pd.read_html(StringIO(element_first_table.get_attribute(\"innerHTML\")), header=0, decimal=',', thousands='.')[0]\n",
    "\n",
    "            element_second_table = driver.find_element(By.ID, 'MercadoFut2')\n",
    "            second_df = pd.read_html(StringIO(element_second_table.get_attribute(\"innerHTML\")), header=0, decimal=',', thousands='.')[0]\n",
    "        \n",
    "            # Concatenate the dataframes and rename columns\n",
    "            df = pd.concat([first_df, second_df], axis=1)\n",
    "            return df[COLUMNS_RENAME.keys()].rename(columns=COLUMNS_RENAME)\n",
    "        except Exception as e:\n",
    "            print(f\"Error processing URL {url}: {e}\")\n",
    "            return pd.DataFrame(columns=list(COLUMNS_RENAME.values()))\n",
    "\n",
    "# Scrape data from the generated URL\n",
    "df = scrape_data_from_bmf_website(url)\n",
    "df.head()"
   ],
   "outputs": [
    {
     "data": {
      "text/plain": [
       "  expiration_code  settlement\n",
       "0             N24   100000.00\n",
       "1             Q24    99098.67\n",
       "2             U24    98235.71\n",
       "3             V24    97409.66\n",
       "4             X24    96500.94"
      ],
      "text/html": [
       "<div>\n",
       "<style scoped>\n",
       "    .dataframe tbody tr th:only-of-type {\n",
       "        vertical-align: middle;\n",
       "    }\n",
       "\n",
       "    .dataframe tbody tr th {\n",
       "        vertical-align: top;\n",
       "    }\n",
       "\n",
       "    .dataframe thead th {\n",
       "        text-align: right;\n",
       "    }\n",
       "</style>\n",
       "<table border=\"1\" class=\"dataframe\">\n",
       "  <thead>\n",
       "    <tr style=\"text-align: right;\">\n",
       "      <th></th>\n",
       "      <th>expiration_code</th>\n",
       "      <th>settlement</th>\n",
       "    </tr>\n",
       "  </thead>\n",
       "  <tbody>\n",
       "    <tr>\n",
       "      <th>0</th>\n",
       "      <td>N24</td>\n",
       "      <td>100000.00</td>\n",
       "    </tr>\n",
       "    <tr>\n",
       "      <th>1</th>\n",
       "      <td>Q24</td>\n",
       "      <td>99098.67</td>\n",
       "    </tr>\n",
       "    <tr>\n",
       "      <th>2</th>\n",
       "      <td>U24</td>\n",
       "      <td>98235.71</td>\n",
       "    </tr>\n",
       "    <tr>\n",
       "      <th>3</th>\n",
       "      <td>V24</td>\n",
       "      <td>97409.66</td>\n",
       "    </tr>\n",
       "    <tr>\n",
       "      <th>4</th>\n",
       "      <td>X24</td>\n",
       "      <td>96500.94</td>\n",
       "    </tr>\n",
       "  </tbody>\n",
       "</table>\n",
       "</div>"
      ]
     },
     "execution_count": 7,
     "metadata": {},
     "output_type": "execute_result"
    }
   ],
   "execution_count": 7
  },
  {
   "metadata": {},
   "cell_type": "markdown",
   "source": [
    "## Expiration Dates\n",
    "\n",
    "The retrieved data only contains expiration codes, not explicit expiration dates.\n",
    "\n",
    "- **Expiration Codes**: These codes are sufficient to identify the month and year of expiration. Each code consists of a letter representing the month and a two-digit number representing the year.\n",
    "  \n",
    "- **Month and Year**: The first character of the expiration code is a letter (e.g., 'F', 'G', 'H'), which corresponds to a specific month. The subsequent two digits represent the year.\n",
    "\n",
    "- **Day of Expiration**: The specific day of expiration depends on the market. For example, the expiration day is the first of the month for the 'DI1' market and the fifteenth of the month for the 'DAP' market.\n",
    "\n",
    "By using these codes along with predefined mappings for months and markets, we can accurately calculate the expiration dates for each contract."
   ],
   "id": "42585f7e6a82c7f7"
  },
  {
   "metadata": {
    "ExecuteTime": {
     "end_time": "2024-07-02T23:00:13.271498Z",
     "start_time": "2024-07-02T23:00:13.262920Z"
    }
   },
   "cell_type": "code",
   "source": [
    "import pandas as pd\n",
    "from datetime import datetime\n",
    "\n",
    "# Define expiration month codes and corresponding months\n",
    "EXPIRATION_MONTH = {\n",
    "    'F': 1,  # January\n",
    "    'G': 2,  # February\n",
    "    'H': 3,  # March\n",
    "    'J': 4,  # April\n",
    "    'K': 5,  # May\n",
    "    'M': 6,  # June\n",
    "    'N': 7,  # July\n",
    "    'Q': 8,  # August\n",
    "    'U': 9,  # September\n",
    "    'V': 10, # October\n",
    "    'X': 11, # November\n",
    "    'Z': 12, # December\n",
    "}\n",
    "\n",
    "# Define expiration days for different markets\n",
    "EXPIRATION_DAY = {\n",
    "    'DI1': 1,   # First day of the month for DI1 contracts\n",
    "    'DAP': 15,  # Fifteenth day of the month for DAP contracts\n",
    "}\n",
    "\n",
    "# Function to calculate the unadjusted expiration date for each contract\n",
    "def calculate_expiration_date(row, market):\n",
    "    month_code = row.expiration_code[0]\n",
    "    month = EXPIRATION_MONTH[month_code]\n",
    "    year = int(row.expiration_code[1:]) + 2000\n",
    "    day = EXPIRATION_DAY[market]\n",
    "    expiration_date = datetime(year, month, day)\n",
    "    return expiration_date\n",
    "\n",
    "# Apply the function to calculate expiration dates and add a new column to the DataFrame\n",
    "df['expiration_date'] = df.apply(calculate_expiration_date, axis=1, args=(MARKET,))\n",
    "df.head()"
   ],
   "id": "d6c7029741575a93",
   "outputs": [
    {
     "data": {
      "text/plain": [
       "  expiration_code  settlement expiration_date\n",
       "0             N24   100000.00      2024-07-01\n",
       "1             Q24    99098.67      2024-08-01\n",
       "2             U24    98235.71      2024-09-01\n",
       "3             V24    97409.66      2024-10-01\n",
       "4             X24    96500.94      2024-11-01"
      ],
      "text/html": [
       "<div>\n",
       "<style scoped>\n",
       "    .dataframe tbody tr th:only-of-type {\n",
       "        vertical-align: middle;\n",
       "    }\n",
       "\n",
       "    .dataframe tbody tr th {\n",
       "        vertical-align: top;\n",
       "    }\n",
       "\n",
       "    .dataframe thead th {\n",
       "        text-align: right;\n",
       "    }\n",
       "</style>\n",
       "<table border=\"1\" class=\"dataframe\">\n",
       "  <thead>\n",
       "    <tr style=\"text-align: right;\">\n",
       "      <th></th>\n",
       "      <th>expiration_code</th>\n",
       "      <th>settlement</th>\n",
       "      <th>expiration_date</th>\n",
       "    </tr>\n",
       "  </thead>\n",
       "  <tbody>\n",
       "    <tr>\n",
       "      <th>0</th>\n",
       "      <td>N24</td>\n",
       "      <td>100000.00</td>\n",
       "      <td>2024-07-01</td>\n",
       "    </tr>\n",
       "    <tr>\n",
       "      <th>1</th>\n",
       "      <td>Q24</td>\n",
       "      <td>99098.67</td>\n",
       "      <td>2024-08-01</td>\n",
       "    </tr>\n",
       "    <tr>\n",
       "      <th>2</th>\n",
       "      <td>U24</td>\n",
       "      <td>98235.71</td>\n",
       "      <td>2024-09-01</td>\n",
       "    </tr>\n",
       "    <tr>\n",
       "      <th>3</th>\n",
       "      <td>V24</td>\n",
       "      <td>97409.66</td>\n",
       "      <td>2024-10-01</td>\n",
       "    </tr>\n",
       "    <tr>\n",
       "      <th>4</th>\n",
       "      <td>X24</td>\n",
       "      <td>96500.94</td>\n",
       "      <td>2024-11-01</td>\n",
       "    </tr>\n",
       "  </tbody>\n",
       "</table>\n",
       "</div>"
      ]
     },
     "execution_count": 8,
     "metadata": {},
     "output_type": "execute_result"
    }
   ],
   "execution_count": 8
  },
  {
   "metadata": {},
   "cell_type": "markdown",
   "source": [
    "## Adjusted Expiration Dates\n",
    "\n",
    "The expiration dates calculated in the previous step may not fall on a trading day. In such cases, the expiration date is adjusted to the following business day.\n",
    "\n",
    "- **Non-Trading Days**: Expiration dates can sometimes fall on weekends or holidays, which are non-trading days.\n",
    "\n",
    "- **Adjustment Rule**: When an expiration date falls on a non-trading day, it is moved to the next business day to ensure it aligns with market trading days.\n",
    "\n",
    "- **Holidays Calendar**: The best available holidays calendar is published by ANBIMA. This calendar is utilized to adjust the expiration dates appropriately.\n",
    "\n",
    "By referencing the ANBIMA holidays calendar, we ensure that all expiration dates are accurately adjusted to fall on valid trading days."
   ],
   "id": "31db57e867ec99c1"
  },
  {
   "cell_type": "code",
   "id": "37302be9472aa8f1",
   "metadata": {
    "ExecuteTime": {
     "end_time": "2024-07-02T23:00:13.602340Z",
     "start_time": "2024-07-02T23:00:13.272500Z"
    }
   },
   "source": [
    "import xlrd\n",
    "from datetime import date\n",
    "from urllib.request import urlretrieve\n",
    "\n",
    "# Define URL for ANBIMA holidays calendar\n",
    "anbima_url = 'http://www.anbima.com.br/feriados/arqs/feriados_nacionais.xls'\n",
    "path = 'holidays_anbima.xls'\n",
    "\n",
    "# Download the holidays file from ANBIMA\n",
    "response = urlretrieve(anbima_url, filename=path)\n",
    "\n",
    "# Open the workbook and select the first sheet\n",
    "wb = xlrd.open_workbook(path)\n",
    "ws = wb.sheet_by_index(0)\n",
    "\n",
    "# Initialize a list to hold holiday dates\n",
    "holidays = []\n",
    "\n",
    "# Iterate through the rows to extract holiday dates\n",
    "i = 1\n",
    "while ws.cell_type(i, 0) == 3:  # 3 indicates an Excel date cell\n",
    "    y, m, d, _, _, _ = xlrd.xldate_as_tuple(ws.cell_value(i, 0), wb.datemode)\n",
    "    holidays.append(date(y, m, d))\n",
    "    i += 1\n",
    "\n",
    "# Print the first and last 5 holidays to verify\n",
    "print(holidays[:5])\n",
    "print(holidays[-5:])"
   ],
   "outputs": [
    {
     "name": "stdout",
     "output_type": "stream",
     "text": [
      "[datetime.date(2001, 1, 1), datetime.date(2001, 2, 26), datetime.date(2001, 2, 27), datetime.date(2001, 4, 13), datetime.date(2001, 4, 21)]\n",
      "[datetime.date(2099, 10, 12), datetime.date(2099, 11, 2), datetime.date(2099, 11, 15), datetime.date(2099, 11, 20), datetime.date(2099, 12, 25)]\n"
     ]
    }
   ],
   "execution_count": 9
  },
  {
   "cell_type": "code",
   "id": "1e5bfe79225be81f",
   "metadata": {
    "ExecuteTime": {
     "end_time": "2024-07-02T23:00:13.610619Z",
     "start_time": "2024-07-02T23:00:13.602340Z"
    }
   },
   "source": [
    "import pandas as pd\n",
    "from datetime import timedelta\n",
    "\n",
    "# Function to adjust dates to the next business day\n",
    "def adjust_to_business_day(date, holidays):\n",
    "    \"\"\"\n",
    "    Adjusts the given date to the next business day if it falls on a weekend or holiday.\n",
    "\n",
    "    Parameters:\n",
    "    date (datetime.date): The original date to adjust.\n",
    "    holidays (list of datetime.date): A list of holiday dates.\n",
    "\n",
    "    Returns:\n",
    "    datetime.date: The adjusted business day date.\n",
    "    \"\"\"\n",
    "    while date.weekday() >= 5 or date in holidays:  # 5 is Saturday, 6 is Sunday\n",
    "        date += timedelta(days=1)\n",
    "    return date\n",
    "\n",
    "# Apply the function to the expiration dates series to get adjusted expiration dates\n",
    "df['adj_expiration_date'] = df['expiration_date'].apply(lambda x: adjust_to_business_day(x, holidays))\n",
    "\n",
    "# Display the first few rows of the DataFrame to verify the changes\n",
    "df.head()"
   ],
   "outputs": [
    {
     "data": {
      "text/plain": [
       "  expiration_code  settlement expiration_date adj_expiration_date\n",
       "0             N24   100000.00      2024-07-01          2024-07-01\n",
       "1             Q24    99098.67      2024-08-01          2024-08-01\n",
       "2             U24    98235.71      2024-09-01          2024-09-02\n",
       "3             V24    97409.66      2024-10-01          2024-10-01\n",
       "4             X24    96500.94      2024-11-01          2024-11-01"
      ],
      "text/html": [
       "<div>\n",
       "<style scoped>\n",
       "    .dataframe tbody tr th:only-of-type {\n",
       "        vertical-align: middle;\n",
       "    }\n",
       "\n",
       "    .dataframe tbody tr th {\n",
       "        vertical-align: top;\n",
       "    }\n",
       "\n",
       "    .dataframe thead th {\n",
       "        text-align: right;\n",
       "    }\n",
       "</style>\n",
       "<table border=\"1\" class=\"dataframe\">\n",
       "  <thead>\n",
       "    <tr style=\"text-align: right;\">\n",
       "      <th></th>\n",
       "      <th>expiration_code</th>\n",
       "      <th>settlement</th>\n",
       "      <th>expiration_date</th>\n",
       "      <th>adj_expiration_date</th>\n",
       "    </tr>\n",
       "  </thead>\n",
       "  <tbody>\n",
       "    <tr>\n",
       "      <th>0</th>\n",
       "      <td>N24</td>\n",
       "      <td>100000.00</td>\n",
       "      <td>2024-07-01</td>\n",
       "      <td>2024-07-01</td>\n",
       "    </tr>\n",
       "    <tr>\n",
       "      <th>1</th>\n",
       "      <td>Q24</td>\n",
       "      <td>99098.67</td>\n",
       "      <td>2024-08-01</td>\n",
       "      <td>2024-08-01</td>\n",
       "    </tr>\n",
       "    <tr>\n",
       "      <th>2</th>\n",
       "      <td>U24</td>\n",
       "      <td>98235.71</td>\n",
       "      <td>2024-09-01</td>\n",
       "      <td>2024-09-02</td>\n",
       "    </tr>\n",
       "    <tr>\n",
       "      <th>3</th>\n",
       "      <td>V24</td>\n",
       "      <td>97409.66</td>\n",
       "      <td>2024-10-01</td>\n",
       "      <td>2024-10-01</td>\n",
       "    </tr>\n",
       "    <tr>\n",
       "      <th>4</th>\n",
       "      <td>X24</td>\n",
       "      <td>96500.94</td>\n",
       "      <td>2024-11-01</td>\n",
       "      <td>2024-11-01</td>\n",
       "    </tr>\n",
       "  </tbody>\n",
       "</table>\n",
       "</div>"
      ]
     },
     "execution_count": 10,
     "metadata": {},
     "output_type": "execute_result"
    }
   ],
   "execution_count": 10
  },
  {
   "metadata": {},
   "cell_type": "markdown",
   "source": [
    "## Time to Maturity\n",
    "\n",
    "Using the reference date (defined by the user at the beginning of this notebook) and the adjusted expiration dates, we can calculate the number of business days until maturity. \n",
    "\n",
    "### Steps:\n",
    "1. **Calculate Business Days Until Maturity**: Determine the number of business days between the reference date and each adjusted expiration date.\n",
    "2. **Convert to Years**: Use the Brazilian convention of 252 business days in a year to convert the business days to years.\n",
    "\n",
    "These calculations are essential for accurate financial analysis and modeling, providing a clear timeline for the maturity of each contract."
   ],
   "id": "ed0884117630e9b"
  },
  {
   "cell_type": "code",
   "id": "8d1595b3edcd3860",
   "metadata": {
    "ExecuteTime": {
     "end_time": "2024-07-02T23:00:14.151219Z",
     "start_time": "2024-07-02T23:00:13.610619Z"
    }
   },
   "source": [
    "import pandas as pd\n",
    "from pandas.tseries.offsets import CustomBusinessDay\n",
    "\n",
    "# Define the reference date\n",
    "ref_date = pd.to_datetime(REF_DATE)\n",
    "\n",
    "# Define the custom business day convention with holidays\n",
    "custom_bday = CustomBusinessDay(holidays=holidays)\n",
    "\n",
    "# Function to calculate years to maturity between two dates\n",
    "def calculate_years_to_maturity(start_date, end_date):\n",
    "    business_days_to_maturity = len(pd.date_range(start=start_date, end=end_date, freq=custom_bday)) - 1  # Subtract 1 because the start date is inclusive\n",
    "    return business_days_to_maturity / 252\n",
    "\n",
    "# Calculate business days to maturity and years to maturity\n",
    "df['years_to_maturity'] = df['adj_expiration_date'].apply(lambda x: calculate_years_to_maturity(ref_date, x))\n",
    "\n",
    "# Display the first few rows of the DataFrame to verify the changes\n",
    "df.head()"
   ],
   "outputs": [
    {
     "data": {
      "text/plain": [
       "  expiration_code  settlement expiration_date adj_expiration_date  \\\n",
       "0             N24   100000.00      2024-07-01          2024-07-01   \n",
       "1             Q24    99098.67      2024-08-01          2024-08-01   \n",
       "2             U24    98235.71      2024-09-01          2024-09-02   \n",
       "3             V24    97409.66      2024-10-01          2024-10-01   \n",
       "4             X24    96500.94      2024-11-01          2024-11-01   \n",
       "\n",
       "   years_to_maturity  \n",
       "0           0.000000  \n",
       "1           0.091270  \n",
       "2           0.178571  \n",
       "3           0.261905  \n",
       "4           0.353175  "
      ],
      "text/html": [
       "<div>\n",
       "<style scoped>\n",
       "    .dataframe tbody tr th:only-of-type {\n",
       "        vertical-align: middle;\n",
       "    }\n",
       "\n",
       "    .dataframe tbody tr th {\n",
       "        vertical-align: top;\n",
       "    }\n",
       "\n",
       "    .dataframe thead th {\n",
       "        text-align: right;\n",
       "    }\n",
       "</style>\n",
       "<table border=\"1\" class=\"dataframe\">\n",
       "  <thead>\n",
       "    <tr style=\"text-align: right;\">\n",
       "      <th></th>\n",
       "      <th>expiration_code</th>\n",
       "      <th>settlement</th>\n",
       "      <th>expiration_date</th>\n",
       "      <th>adj_expiration_date</th>\n",
       "      <th>years_to_maturity</th>\n",
       "    </tr>\n",
       "  </thead>\n",
       "  <tbody>\n",
       "    <tr>\n",
       "      <th>0</th>\n",
       "      <td>N24</td>\n",
       "      <td>100000.00</td>\n",
       "      <td>2024-07-01</td>\n",
       "      <td>2024-07-01</td>\n",
       "      <td>0.000000</td>\n",
       "    </tr>\n",
       "    <tr>\n",
       "      <th>1</th>\n",
       "      <td>Q24</td>\n",
       "      <td>99098.67</td>\n",
       "      <td>2024-08-01</td>\n",
       "      <td>2024-08-01</td>\n",
       "      <td>0.091270</td>\n",
       "    </tr>\n",
       "    <tr>\n",
       "      <th>2</th>\n",
       "      <td>U24</td>\n",
       "      <td>98235.71</td>\n",
       "      <td>2024-09-01</td>\n",
       "      <td>2024-09-02</td>\n",
       "      <td>0.178571</td>\n",
       "    </tr>\n",
       "    <tr>\n",
       "      <th>3</th>\n",
       "      <td>V24</td>\n",
       "      <td>97409.66</td>\n",
       "      <td>2024-10-01</td>\n",
       "      <td>2024-10-01</td>\n",
       "      <td>0.261905</td>\n",
       "    </tr>\n",
       "    <tr>\n",
       "      <th>4</th>\n",
       "      <td>X24</td>\n",
       "      <td>96500.94</td>\n",
       "      <td>2024-11-01</td>\n",
       "      <td>2024-11-01</td>\n",
       "      <td>0.353175</td>\n",
       "    </tr>\n",
       "  </tbody>\n",
       "</table>\n",
       "</div>"
      ]
     },
     "execution_count": 11,
     "metadata": {},
     "output_type": "execute_result"
    }
   ],
   "execution_count": 11
  },
  {
   "metadata": {},
   "cell_type": "markdown",
   "source": [
    "## Rates\n",
    "\n",
    "The scraped data contains various rate information, such as open, high, low, close, and average rates. However, for financial analysis using daily historical prices, the most relevant rate is the one associated with the settlement prices. Unfortunately, this rate is not directly available in the scraped data. \n",
    "\n",
    "It is possible to calculate the settlement rate using the settlement price and the time to maturity."
   ],
   "id": "f58eccc1e31aae29"
  },
  {
   "cell_type": "code",
   "id": "4e6daf56e1240ea3",
   "metadata": {
    "ExecuteTime": {
     "end_time": "2024-07-02T23:00:14.158899Z",
     "start_time": "2024-07-02T23:00:14.151219Z"
    }
   },
   "source": [
    "# Calculate the annualized rates implied by the settlement prices\n",
    "df['rate'] = ((100_000 / df['settlement']) ** (1 / df['years_to_maturity']) - 1) * 100\n",
    "\n",
    "# Display the first few rows of the DataFrame to verify the changes\n",
    "df.head()"
   ],
   "outputs": [
    {
     "data": {
      "text/plain": [
       "  expiration_code  settlement expiration_date adj_expiration_date  \\\n",
       "0             N24   100000.00      2024-07-01          2024-07-01   \n",
       "1             Q24    99098.67      2024-08-01          2024-08-01   \n",
       "2             U24    98235.71      2024-09-01          2024-09-02   \n",
       "3             V24    97409.66      2024-10-01          2024-10-01   \n",
       "4             X24    96500.94      2024-11-01          2024-11-01   \n",
       "\n",
       "   years_to_maturity       rate  \n",
       "0           0.000000   0.000000  \n",
       "1           0.091270  10.428952  \n",
       "2           0.178571  10.481974  \n",
       "3           0.261905  10.540018  \n",
       "4           0.353175  10.611002  "
      ],
      "text/html": [
       "<div>\n",
       "<style scoped>\n",
       "    .dataframe tbody tr th:only-of-type {\n",
       "        vertical-align: middle;\n",
       "    }\n",
       "\n",
       "    .dataframe tbody tr th {\n",
       "        vertical-align: top;\n",
       "    }\n",
       "\n",
       "    .dataframe thead th {\n",
       "        text-align: right;\n",
       "    }\n",
       "</style>\n",
       "<table border=\"1\" class=\"dataframe\">\n",
       "  <thead>\n",
       "    <tr style=\"text-align: right;\">\n",
       "      <th></th>\n",
       "      <th>expiration_code</th>\n",
       "      <th>settlement</th>\n",
       "      <th>expiration_date</th>\n",
       "      <th>adj_expiration_date</th>\n",
       "      <th>years_to_maturity</th>\n",
       "      <th>rate</th>\n",
       "    </tr>\n",
       "  </thead>\n",
       "  <tbody>\n",
       "    <tr>\n",
       "      <th>0</th>\n",
       "      <td>N24</td>\n",
       "      <td>100000.00</td>\n",
       "      <td>2024-07-01</td>\n",
       "      <td>2024-07-01</td>\n",
       "      <td>0.000000</td>\n",
       "      <td>0.000000</td>\n",
       "    </tr>\n",
       "    <tr>\n",
       "      <th>1</th>\n",
       "      <td>Q24</td>\n",
       "      <td>99098.67</td>\n",
       "      <td>2024-08-01</td>\n",
       "      <td>2024-08-01</td>\n",
       "      <td>0.091270</td>\n",
       "      <td>10.428952</td>\n",
       "    </tr>\n",
       "    <tr>\n",
       "      <th>2</th>\n",
       "      <td>U24</td>\n",
       "      <td>98235.71</td>\n",
       "      <td>2024-09-01</td>\n",
       "      <td>2024-09-02</td>\n",
       "      <td>0.178571</td>\n",
       "      <td>10.481974</td>\n",
       "    </tr>\n",
       "    <tr>\n",
       "      <th>3</th>\n",
       "      <td>V24</td>\n",
       "      <td>97409.66</td>\n",
       "      <td>2024-10-01</td>\n",
       "      <td>2024-10-01</td>\n",
       "      <td>0.261905</td>\n",
       "      <td>10.540018</td>\n",
       "    </tr>\n",
       "    <tr>\n",
       "      <th>4</th>\n",
       "      <td>X24</td>\n",
       "      <td>96500.94</td>\n",
       "      <td>2024-11-01</td>\n",
       "      <td>2024-11-01</td>\n",
       "      <td>0.353175</td>\n",
       "      <td>10.611002</td>\n",
       "    </tr>\n",
       "  </tbody>\n",
       "</table>\n",
       "</div>"
      ]
     },
     "execution_count": 12,
     "metadata": {},
     "output_type": "execute_result"
    }
   ],
   "execution_count": 12
  },
  {
   "metadata": {},
   "cell_type": "markdown",
   "source": "## Visualization",
   "id": "316f7414d04fb711"
  },
  {
   "cell_type": "code",
   "id": "21249b919bc94701",
   "metadata": {
    "ExecuteTime": {
     "end_time": "2024-07-02T23:00:14.165816Z",
     "start_time": "2024-07-02T23:00:14.158899Z"
    }
   },
   "source": [
    "# Define the columns we want to keep\n",
    "WANTED_COLUMNS = ['years_to_maturity', 'rate']\n",
    "\n",
    "# Filter the DataFrame to include only relevant rows and columns\n",
    "# Eliminate contracts that are expiring on the reference date (years_to_maturity = 0)\n",
    "df_filtered = df[df['years_to_maturity'] > 0][WANTED_COLUMNS].copy()\n",
    "\n",
    "# Set 'years_to_maturity' as the index for easier plotting and analysis\n",
    "df_filtered.set_index('years_to_maturity', inplace=True)\n",
    "\n",
    "# Display the first few rows of the filtered DataFrame to verify the changes\n",
    "df_filtered.head()"
   ],
   "outputs": [
    {
     "data": {
      "text/plain": [
       "                        rate\n",
       "years_to_maturity           \n",
       "0.091270           10.428952\n",
       "0.178571           10.481974\n",
       "0.261905           10.540018\n",
       "0.353175           10.611002\n",
       "0.428571           10.710012"
      ],
      "text/html": [
       "<div>\n",
       "<style scoped>\n",
       "    .dataframe tbody tr th:only-of-type {\n",
       "        vertical-align: middle;\n",
       "    }\n",
       "\n",
       "    .dataframe tbody tr th {\n",
       "        vertical-align: top;\n",
       "    }\n",
       "\n",
       "    .dataframe thead th {\n",
       "        text-align: right;\n",
       "    }\n",
       "</style>\n",
       "<table border=\"1\" class=\"dataframe\">\n",
       "  <thead>\n",
       "    <tr style=\"text-align: right;\">\n",
       "      <th></th>\n",
       "      <th>rate</th>\n",
       "    </tr>\n",
       "    <tr>\n",
       "      <th>years_to_maturity</th>\n",
       "      <th></th>\n",
       "    </tr>\n",
       "  </thead>\n",
       "  <tbody>\n",
       "    <tr>\n",
       "      <th>0.091270</th>\n",
       "      <td>10.428952</td>\n",
       "    </tr>\n",
       "    <tr>\n",
       "      <th>0.178571</th>\n",
       "      <td>10.481974</td>\n",
       "    </tr>\n",
       "    <tr>\n",
       "      <th>0.261905</th>\n",
       "      <td>10.540018</td>\n",
       "    </tr>\n",
       "    <tr>\n",
       "      <th>0.353175</th>\n",
       "      <td>10.611002</td>\n",
       "    </tr>\n",
       "    <tr>\n",
       "      <th>0.428571</th>\n",
       "      <td>10.710012</td>\n",
       "    </tr>\n",
       "  </tbody>\n",
       "</table>\n",
       "</div>"
      ]
     },
     "execution_count": 13,
     "metadata": {},
     "output_type": "execute_result"
    }
   ],
   "execution_count": 13
  },
  {
   "cell_type": "code",
   "id": "bcf1d78fd2885bc1",
   "metadata": {
    "ExecuteTime": {
     "end_time": "2024-07-02T23:00:14.608066Z",
     "start_time": "2024-07-02T23:00:14.166817Z"
    }
   },
   "source": [
    "# Import matplotlib for plotting\n",
    "import matplotlib.pyplot as plt\n",
    "\n",
    "# Plot of rates versus years\n",
    "# In later projects, this will be the starting point for the construction of interest rate curves\n",
    "\n",
    "# Plot the chart\n",
    "plt.figure(figsize=(10, 6))\n",
    "plt.scatter(df_filtered.index, df_filtered['rate'], marker='o', color='b')  # Scatter plot with markers\n",
    "plt.xlabel('Years to Maturity')\n",
    "plt.ylabel('Rate (%)')\n",
    "plt.title(f'Interest Rates Futures: {MARKET}')\n",
    "plt.grid(True)\n",
    "plt.show()"
   ],
   "outputs": [
    {
     "data": {
      "text/plain": [
       "<Figure size 1000x600 with 1 Axes>"
      ],
      "image/png": "[encoded data removed]"
     },
     "metadata": {},
     "output_type": "display_data"
    }
   ],
   "execution_count": 14
  },
  {
   "cell_type": "code",
   "id": "f93bf35a77df31dc",
   "metadata": {
    "ExecuteTime": {
     "end_time": "2024-07-02T23:00:14.615374Z",
     "start_time": "2024-07-02T23:00:14.609068Z"
    }
   },
   "source": [
    "# Export the filtered DataFrame to a CSV file\n",
    "df_filtered.to_csv(f'rates_{MARKET}.csv', index=True)"
   ],
   "outputs": [],
   "execution_count": 15
  }
 ],
 "metadata": {
  "kernelspec": {
   "display_name": "Python 3 (ipykernel)",
   "language": "python",
   "name": "python3"
  },
  "language_info": {
   "codemirror_mode": {
    "name": "ipython",
    "version": 3
   },
   "file_extension": ".py",
   "mimetype": "text/x-python",
   "name": "python",
   "nbconvert_exporter": "python",
   "pygments_lexer": "ipython3",
   "version": "3.11.6"
  }
 },
 "nbformat": 4,
 "nbformat_minor": 5
}
